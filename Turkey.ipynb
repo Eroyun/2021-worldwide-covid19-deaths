{
 "cells": [
  {
   "cell_type": "code",
   "execution_count": null,
   "metadata": {
    "collapsed": true
   },
   "outputs": [],
   "source": [
    "import pandas as pd\n",
    "import matplotlib.pyplot as plt\n",
    "import matplotlib.dates as mdates\n",
    "from matplotlib.ticker import FuncFormatter"
   ]
  },
  {
   "cell_type": "code",
   "execution_count": null,
   "outputs": [],
   "source": [
    "%matplotlib notebook\n",
    "df=pd.read_csv(\"WHO-COVID-19-global-data.csv\")\n",
    "df[\"Date_reported\"]= pd.to_datetime(df[\"Date_reported\"])\n",
    "df=df.set_index(\"Date_reported\")\n",
    "df=df[df[\"Country\"]==\"Turkey\"]\n",
    "df=df.drop([\"WHO_region\",\"Country\",\"Country_code\"],axis=1)\n",
    "df=df[df.index>\"2020-12-31\"]\n",
    "fig, ((ax1,ax2), (ax3,ax4)) = plt.subplots(2, 2,sharex=True)\n",
    "axes=[ax1,ax2,ax3,ax4]\n",
    "def millions(x, pos):\n",
    "    return '%1.0fM' % (x * 1e-6)\n",
    "def thousands(x,pos):\n",
    "    return '%1.0fK' % (x * 1e-3)\n",
    "\n",
    "million = FuncFormatter(millions)\n",
    "thousand = FuncFormatter(thousands)\n",
    "for i in range(4):\n",
    "    axes[i].xaxis.set_major_formatter(mdates.DateFormatter('%b'))\n",
    "    axes[i].tick_params(bottom = False,left=False)\n",
    "    axes[i].plot(df[df.columns[i]])\n",
    "    axes[i].set_title(df.columns[i].replace(\"_\",\" \").title(),fontsize=10)\n",
    "    axes[i].ticklabel_format(style='plain', axis='y')\n",
    "    if i%2!=0:\n",
    "        axes[i].yaxis.set_label_position(\"right\")\n",
    "        axes[i].yaxis.tick_right()\n",
    "        axes[i].tick_params(right = False)\n",
    "    if i==1:\n",
    "        axes[i].yaxis.set_major_formatter(million)\n",
    "    elif i==0 or i==3:\n",
    "        axes[i].yaxis.set_major_formatter(thousand)\n",
    "\n",
    "plt.suptitle('Turkey 2021 Covid-19 Cases and Deaths',fontsize=16)"
   ],
   "metadata": {
    "collapsed": false,
    "pycharm": {
     "name": "#%%\n"
    }
   }
  }
 ],
 "metadata": {
  "kernelspec": {
   "display_name": "Python 3",
   "language": "python",
   "name": "python3"
  },
  "language_info": {
   "codemirror_mode": {
    "name": "ipython",
    "version": 2
   },
   "file_extension": ".py",
   "mimetype": "text/x-python",
   "name": "python",
   "nbconvert_exporter": "python",
   "pygments_lexer": "ipython2",
   "version": "2.7.6"
  }
 },
 "nbformat": 4,
 "nbformat_minor": 0
}